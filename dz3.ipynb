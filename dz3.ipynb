{
 "cells": [
  {
   "cell_type": "markdown",
   "metadata": {
    "id": "W2yOM48zCXEi"
   },
   "source": [
    "# Transfer learning\n",
    "\n",
    "## Урок 3. Model as a service и разные применения Transfer learning\n",
    "\n",
    "### Практическое задание\n",
    "\n",
    "Реализуйте классификацию эмоциональной окрашенности текстов при помощи объекта pipeline.\n",
    "1. Найдите тип задач Sentiment Analysis на huggingface.co\n",
    "2. Найдите модель для русского языка (примеры: rubert-tiny2..., rubert-base...)\n"
   ]
  },
  {
   "cell_type": "code",
   "execution_count": null,
   "metadata": {
    "id": "kDjRZ7SdCTt9"
   },
   "outputs": [],
   "source": [
    "from transformers import pipeline"
   ]
  },
  {
   "cell_type": "markdown",
   "metadata": {
    "id": "vLflGEetNoGf"
   },
   "source": [
    "Модель RuBERT, доработанная для классификации эмоций в коротких текстах на русском языке.  \n",
    "https://huggingface.co/seara/rubert-base-cased-ru-go-emotions"
   ]
  },
  {
   "cell_type": "code",
   "execution_count": null,
   "metadata": {
    "id": "IWV6E2NfC0Dd"
   },
   "outputs": [],
   "source": [
    "model = pipeline(model=\"seara/rubert-base-cased-ru-go-emotions\")"
   ]
  },
  {
   "cell_type": "code",
   "execution_count": null,
   "metadata": {
    "id": "A5y0aCvDCz_3"
   },
   "outputs": [],
   "source": [
    "text1 = [\"Отличный товар\",\n",
    "        \"Мне не понравилось\",\n",
    "        \"Прекрасно выглядит, ничего не меняйте!\",\n",
    "        \"Ничего не понял\",\n",
    "        \"У меня не работала розетка, в остальном все отлично\"]"
   ]
  },
  {
   "cell_type": "code",
   "execution_count": null,
   "metadata": {
    "colab": {
     "base_uri": "https://localhost:8080/"
    },
    "id": "GzyRLjRVCz8l",
    "outputId": "fcc54746-b572-44ce-aa44-9d938895d8c5"
   },
   "outputs": [
    {
     "data": {
      "text/plain": [
       "[{'label': 'admiration', 'score': 0.9238640666007996},\n",
       " {'label': 'neutral', 'score': 0.4071900248527527},\n",
       " {'label': 'admiration', 'score': 0.9382498860359192},\n",
       " {'label': 'neutral', 'score': 0.41783228516578674},\n",
       " {'label': 'amusement', 'score': 0.4031013250350952}]"
      ]
     },
     "execution_count": 30,
     "metadata": {},
     "output_type": "execute_result"
    }
   ],
   "source": [
    "model(text1)"
   ]
  },
  {
   "cell_type": "code",
   "execution_count": null,
   "metadata": {
    "id": "XCDAa_wiE7uu"
   },
   "outputs": [],
   "source": [
    "label_ru = {\n",
    "'admiration': 'восхищение',\n",
    "'amusement': 'веселье',\n",
    "'anger': 'злость',\n",
    "'annoyance': 'раздражение',\n",
    "'approval': 'одобрение',\n",
    "'caring': 'забота',\n",
    "'confusion': 'непонимание',\n",
    "'curiosity': 'любопытство',\n",
    "'desire': 'желание',\n",
    "'disappointment': 'разочарование',\n",
    "'disapproval': 'неодобрение',\n",
    "'disgust': 'отвращение',\n",
    "'embarrassment': 'смущение',\n",
    "'excitement': 'возбуждение',\n",
    "'fear': 'страх',\n",
    "'gratitude': 'признательность',\n",
    "'grief': 'горе',\n",
    "'joy': 'радость',\n",
    "'love': 'любовь',\n",
    "'nervousness': 'нервозность',\n",
    "'optimism': 'оптимизм',\n",
    "'pride': 'гордость',\n",
    "'realization': 'осознание',\n",
    "'relief': 'облегчение',\n",
    "'remorse': 'раскаяние',\n",
    "'sadness': 'грусть',\n",
    "'surprise': 'удивление',\n",
    "'neutral': 'нейтральность'\n",
    "}"
   ]
  },
  {
   "cell_type": "code",
   "execution_count": null,
   "metadata": {
    "id": "xizzsbqoKr1H"
   },
   "outputs": [],
   "source": [
    "def get_label_ru(text, label_ru, model):\n",
    "  label = model[0]['label']\n",
    "  score = model[0]['score']\n",
    "  return label_ru[label], round(score, 2)"
   ]
  },
  {
   "cell_type": "code",
   "execution_count": null,
   "metadata": {
    "id": "waYfuE7-J7gv"
   },
   "outputs": [],
   "source": [
    "text2 = ['Очень огорчает, что семинары в записи. Ни вопроса задать, ни комментария получить.']"
   ]
  },
  {
   "cell_type": "code",
   "execution_count": null,
   "metadata": {
    "colab": {
     "base_uri": "https://localhost:8080/"
    },
    "id": "J0N8JwyiLjGH",
    "outputId": "2bc49f29-f80d-4188-84dc-d269ba02168f"
   },
   "outputs": [
    {
     "name": "stdout",
     "output_type": "stream",
     "text": [
      "('удивление', 0.29)\n"
     ]
    }
   ],
   "source": [
    "for txt in text2:\n",
    "  print(get_label_ru(txt, label_ru, model(txt)))"
   ]
  },
  {
   "cell_type": "markdown",
   "metadata": {
    "id": "u-KaLYXKOLAt"
   },
   "source": [
    "Модель RuBERT-tiny2, адаптированная для классификации коротких текстов на русском языке по тональности.\n",
    "https://huggingface.co/seara/rubert-tiny2-russian-sentiment"
   ]
  },
  {
   "cell_type": "code",
   "execution_count": null,
   "metadata": {
    "id": "CewpEw52NhTn"
   },
   "outputs": [],
   "source": [
    "model = pipeline(model=\"seara/rubert-tiny2-russian-sentiment\")"
   ]
  },
  {
   "cell_type": "code",
   "execution_count": null,
   "metadata": {
    "colab": {
     "base_uri": "https://localhost:8080/"
    },
    "id": "Wn0NIL4yNhD2",
    "outputId": "c4c8185b-7a82-422b-84f9-d949c46b64a2"
   },
   "outputs": [
    {
     "data": {
      "text/plain": [
       "[{'label': 'positive', 'score': 0.9941100478172302},\n",
       " {'label': 'neutral', 'score': 0.5911950469017029},\n",
       " {'label': 'positive', 'score': 0.9389205574989319},\n",
       " {'label': 'negative', 'score': 0.524005651473999},\n",
       " {'label': 'positive', 'score': 0.6734205484390259}]"
      ]
     },
     "execution_count": 36,
     "metadata": {},
     "output_type": "execute_result"
    }
   ],
   "source": [
    "model(text1)"
   ]
  },
  {
   "cell_type": "code",
   "execution_count": null,
   "metadata": {
    "id": "yi7sL_0FKAgx"
   },
   "outputs": [],
   "source": [
    "label_ru = {\n",
    "'neutral': 'нейтральный',\n",
    "'positive': 'позитивный',\n",
    "'negative': 'негативный'\n",
    "}"
   ]
  },
  {
   "cell_type": "code",
   "execution_count": null,
   "metadata": {
    "colab": {
     "base_uri": "https://localhost:8080/"
    },
    "id": "_mBJUuTwPCL-",
    "outputId": "0a93676d-6252-49ff-f253-4f73b5f5b2af"
   },
   "outputs": [
    {
     "name": "stdout",
     "output_type": "stream",
     "text": [
      "('негативный', 0.5)\n"
     ]
    }
   ],
   "source": [
    "for txt in text2:\n",
    "  print(get_label_ru(txt, label_ru, model(txt)))"
   ]
  },
  {
   "cell_type": "code",
   "execution_count": null,
   "metadata": {
    "id": "nSZz1ZTYPFzP"
   },
   "outputs": [],
   "source": []
  }
 ],
 "metadata": {
  "colab": {
   "provenance": []
  },
  "kernelspec": {
   "display_name": "Python 3 (ipykernel)",
   "language": "python",
   "name": "python3"
  },
  "language_info": {
   "codemirror_mode": {
    "name": "ipython",
    "version": 3
   },
   "file_extension": ".py",
   "mimetype": "text/x-python",
   "name": "python",
   "nbconvert_exporter": "python",
   "pygments_lexer": "ipython3",
   "version": "3.7.0"
  }
 },
 "nbformat": 4,
 "nbformat_minor": 1
}
